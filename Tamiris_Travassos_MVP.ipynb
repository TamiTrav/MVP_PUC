{
  "nbformat": 4,
  "nbformat_minor": 0,
  "metadata": {
    "colab": {
      "provenance": [],
      "authorship_tag": "ABX9TyOkBP7dCkhO4I7pGaspDaRQ",
      "include_colab_link": true
    },
    "kernelspec": {
      "name": "python3",
      "display_name": "Python 3"
    },
    "language_info": {
      "name": "python"
    }
  },
  "cells": [
    {
      "cell_type": "markdown",
      "metadata": {
        "id": "view-in-github",
        "colab_type": "text"
      },
      "source": [
        "<a href=\"https://colab.research.google.com/github/TamiTrav/MVP_PUC/blob/main/Tamiris_Travassos_MVP.ipynb\" target=\"_parent\"><img src=\"https://colab.research.google.com/assets/colab-badge.svg\" alt=\"Open In Colab\"/></a>"
      ]
    },
    {
      "cell_type": "markdown",
      "source": [
        "# MVP de Análise de Dados e Boas Práticas"
      ],
      "metadata": {
        "id": "gC24jDz5dGKX"
      }
    },
    {
      "cell_type": "markdown",
      "source": [
        "# Profs. Tatiana Escovedo e Hugo Villamizar"
      ],
      "metadata": {
        "id": "xh-hQGTOP3Bi"
      }
    },
    {
      "cell_type": "markdown",
      "source": [
        "# **Aluna: Tamiris Severino Travassos**"
      ],
      "metadata": {
        "id": "jBCGYHnneI3a"
      }
    },
    {
      "cell_type": "markdown",
      "source": [
        "## **1.Definição do problema**"
      ],
      "metadata": {
        "id": "xz3ss_n3Kvj2"
      }
    },
    {
      "cell_type": "markdown",
      "source": [
        "O banco de dados usado nesse projeto será composto por 3 datasets: customer_demographics,  customer_services e customer_status. Eles encontram-se no Kaggle. \n",
        "\n",
        "A seguir temos algumas informações importantes sobre os datasets. TELCO é uma empresa jovem e com muito potencial, cujas filiais estão localizadas em 1.106 cidades do estado da Califórnia, Estados Unidos. \n",
        "\n",
        "O objetivo desse estudo é entender sobre a perda de clientes e se existe um padrão de churn que possamos identificar.\n",
        "\n",
        "\n",
        "O problema a ser estudado nesse MVP é de aprendizado supervisionado onde basicamente se categoriza um conjunto de dados em classes, nesse estudo poderiamos usar a técnica de Classificação, categorizando os clientes em Churn e não Churn.\n",
        ">\n",
        "\n",
        "Vamos testar algumas hipóteses sobre o problema:\n",
        "\n",
        "\n",
        "*   Como esta a distribuição dos clientes por sexo? \n",
        "*   Clientes mais velhos, ficam mais tempo na empresa? Qual a receita média deles?\n",
        "*   Clientes casados tem mais dependentes na empresa?\n",
        "*   Clientes que já indicaram um amigo, tem mais chances de permanecerem na empresa?\n",
        "*   Qual o motivo de saída que é mais frequente?\n",
        "*   Aceitar as ofertas diminui as chances do cliente sair?\n",
        "\n",
        "\n",
        "\n",
        "\n",
        "\n",
        "Para mais detalhes sobre este dataset, consulte: https://www.kaggle.com/code/datacertlaboratoria/guia-de-resolu-o-projeto-5/input\n",
        "\n",
        "\n",
        "\n",
        "\n",
        "\n"
      ],
      "metadata": {
        "id": "M-bAnMCQg6Br"
      }
    },
    {
      "cell_type": "markdown",
      "source": [
        "**Informações sobre os atributos**"
      ],
      "metadata": {
        "id": "fTqgBL23K2CL"
      }
    },
    {
      "cell_type": "markdown",
      "source": [
        "\n",
        "\n",
        "A seguir os atributos em cada dataset e sua descrição:\n",
        ">\n",
        "\n",
        "\n",
        "A) **customer_demographics** : \n",
        ">\n",
        "\n",
        "\n",
        "\n",
        "  1.**Id_cliente** - ID exclusivo que identifica cada cliente.\n",
        "\n",
        "\n",
        "  2.**Sexo** \n",
        "\n",
        "\n",
        "  3.**Idade**- Em anos\n",
        "\n",
        "\n",
        "  4.**Abaixo_30a** - Indica se o cliente tem abaixo de 30 anos.\n",
        "\n",
        "\n",
        "  5.**Senior** - Indica se o cliente tem 65 anos ou mais.\n",
        "\n",
        "\n",
        "  6.**Estado_Civil** \n",
        "\n",
        "\n",
        "  7.**Dependentes** - Indica se o cliente vive ou não com um dependente que pode ser um filho, esposa (o), pai ou mãe. \n",
        "\n",
        "\n",
        "  8.**Qtde_dependentes** - Quantidade de dependentes que moram com ele.\n",
        ">\n",
        "\n",
        "\n",
        "\n",
        "B) **customer_services** :\n",
        "\n",
        ">\n",
        "\n",
        "\n",
        "\n",
        "1.**Id_cliente** - ID exclusivo que identifica cada cliente. \n",
        "\n",
        "\n",
        "2.**Indica_amigo** - Indica se o cliente já encaminhou um amigo ou familiar para esta \n",
        "empresa(Sim ou Não).\n",
        "\n",
        "\n",
        "3.**N_indicacoes** - Indica o número de indicações que o cliente fez\n",
        "\n",
        "\n",
        "4.**Tempo_trim** - Indica o número total de meses em que o cliente está na empresa no final do trimestre.\n",
        "\n",
        "\n",
        "5.**Ultima_oferta_aceita** - Indica a última oferta de marketing que o cliente aceitou, se aplicável. Os valores incluem: Nenhum, Oferta A, Oferta B.\n",
        "\n",
        "\n",
        "6.**Linha_tele_b** - Indica se o cliente contrata o serviço de telefonia residencial com a empresa(Sim, Não).\n",
        "\n",
        "\n",
        "7.**Tarifa_linha** - Indica as tarifas médias de longa distância do cliente, mostradas no final do trimestre especificado anteriormente.\n",
        "\n",
        "\n",
        "8.**Varias_linhas_tele** - Indica se o cliente contrata várias linhas telefônicas com a empresa (Sim, Não).\n",
        "\n",
        "\n",
        "9.**Internet_da_empresa** - Indica se o cliente contrata internet com a empresa (Sim, Não).\n",
        "\n",
        "\n",
        "10.**Tipo_internet** - Indica o tipo de internet que o cliente contrata com a empresa (DLS,Fibra Optica,Cabo).\n",
        "\n",
        "\n",
        "11.**Numero_downloads** - Indica se o cliente contrata várias linhas telefônicas com a empresa (Sim, Não).\n",
        "\n",
        "\n",
        "12.**Tipo_contrato** - Indica o tipo de contrato com a empresa (Mês a mês,Ano a ano).\n",
        "\n",
        "\n",
        "13.**Faturamento_total** - Indica se o cliente optou pelo faturamento sem papel: Sim, Não.\n",
        "\n",
        "\n",
        "14.**Tipo_pagamento** - Indica como o cliente paga sua fatura: Saque bancário, cartão de crédito, cheque enviado.\n",
        "\n",
        "\n",
        "15.**Total_gasto** - Indica a cobrança mensal total atual do cliente para todos os serviços da empresa.\n",
        "\n",
        "\n",
        "16.**Total_encargos** - Indica os encargos totais do cliente, calculados no final do trimestre.\n",
        "\n",
        "\n",
        "17.**Reembolsos** - Indica o total de reembolsos do cliente, calculado no final do trimestre.\n",
        "\n",
        "\n",
        "18.**Gasto_download** - Indica os encargos totais do cliente para downloads de dados adicionais acima dos especificados em seu plano.\n",
        "\n",
        "\n",
        "19.**Total_tarifas** - Indica o total de tarifas de longa distância do cliente acima das especificadas em seu plano, ao final do trimestre especificado\n",
        "\n",
        "\n",
        "20.**Receita** - Receita total\n",
        ">\n",
        "\n",
        "\n",
        "\n",
        "C) **customer_status** :\n",
        "\n",
        ">\n",
        "\n",
        "\n",
        "\n",
        "1.**Id_cliente** - ID exclusivo que identifica cada cliente.\n",
        "\n",
        "\n",
        "2.**status** - Indica o status do cliente no final do trimestre(Churn, Cliente novo, Cliente antigo).\n",
        "\n",
        "\n",
        "3.**Saida_trimestre** - Se o cliente deixou ou não a empresa naquele trimestre.\n",
        "\n",
        "\n",
        "4.**Categoria_churn** - Uma categoria de alto nível para o motivo da rotatividade de clientes(Atitude, Concorrente, Insatisfação, Outros)."
      ],
      "metadata": {
        "id": "ks5FJvEL9Hqn"
      }
    },
    {
      "cell_type": "code",
      "source": [
        "# Import \n",
        "import pandas as pd\n",
        "import seaborn as sns\n",
        "import numpy as np\n",
        "import matplotlib\n",
        "import matplotlib.pyplot as plt\n",
        "import seaborn as sns\n",
        "import missingno as ms # para tratamento de missings\n",
        "from matplotlib import cm\n",
        "from pandas import set_option\n",
        "from pandas.plotting import scatter_matrix\n",
        "from sklearn.model_selection import train_test_split"
      ],
      "metadata": {
        "id": "Ger0JaG5Ldl2"
      },
      "execution_count": 196,
      "outputs": []
    },
    {
      "cell_type": "code",
      "source": [
        "# configuração para não exibir os warnings\n",
        "import warnings\n",
        "warnings.filterwarnings(\"ignore\")"
      ],
      "metadata": {
        "id": "q8JyTAJ-Ewzk"
      },
      "execution_count": 139,
      "outputs": []
    },
    {
      "cell_type": "markdown",
      "source": [
        "## **2. Carga de Dados**"
      ],
      "metadata": {
        "id": "K-nIlvh9LHmL"
      }
    },
    {
      "cell_type": "code",
      "source": [
        "# Carrega arquivo csv usando Pandas usando uma URL\n",
        "# Informa a URL de importação dos datasets"
      ],
      "metadata": {
        "id": "GsrM6D3TzlUn"
      },
      "execution_count": 140,
      "outputs": []
    },
    {
      "cell_type": "code",
      "source": [
        "customer_demographics = pd.read_csv('https://raw.githubusercontent.com/TamiTrav/MVP_PUC/main/Telco_customer_churn_demographics.csv', sep=';')\n",
        "#print(customer_demographics)\n",
        "customer_services = pd.read_csv('https://raw.githubusercontent.com/TamiTrav/MVP_PUC/main/Telco_customer_churn_services.csv', sep=';')\n",
        "#print(customer_services)\n",
        "customer_status = pd.read_csv('https://raw.githubusercontent.com/TamiTrav/MVP_PUC/main/Telco_customer_churn_status.csv', sep=';')\n",
        "#customer_status.head()"
      ],
      "metadata": {
        "id": "kQgdRhn4iqUZ"
      },
      "execution_count": 141,
      "outputs": []
    },
    {
      "cell_type": "markdown",
      "source": [
        "Após carregamos o dataset iremos explorá-lo."
      ],
      "metadata": {
        "id": "Y1E88kDbL2cQ"
      }
    },
    {
      "cell_type": "markdown",
      "source": [
        "A tabela demographics mostra as características demográficas dos clientes que solicitam os serviços da empresa TELCO. Grande parte dessas variáveis ​​​​estão relacionadas às informações pessoais do cliente, como o número de dependentes que possui, estado civil, idade , etc.\n",
        "\n",
        "\n",
        "A tabela services mostra as características dos serviços contratados pelo cliente, entre as variáveis ​​​​importantes está o pagamento mensal feito pelo cliente à empresa, receita total, encargos adicionais atribuídos ao cliente por ultrapassar os limites de download ou consumo de dados, entre outros.\n",
        "\n",
        "A tabela status contém informações sobre a rotatividade de clientes da empresa no próximo mês com base em vários fatores, como a informação se o cliente saiu ou não no último mês ou ainda o Índice de Satisfação, o motivo da perda de clientes, entre outros.\n",
        "\n"
      ],
      "metadata": {
        "id": "O4ys-KW79Y6H"
      }
    },
    {
      "cell_type": "markdown",
      "source": [
        "## **3. Análise de dados**"
      ],
      "metadata": {
        "id": "_d-1OyjpMTtk"
      }
    },
    {
      "cell_type": "markdown",
      "source": [
        "###**3.1 Estatísticas Descritivas**"
      ],
      "metadata": {
        "id": "epxa_qlFMjvm"
      }
    },
    {
      "cell_type": "markdown",
      "source": [
        "Vamos iniciar examinando as dimensões do dataset e suas informações."
      ],
      "metadata": {
        "id": "5mT-UNDwMv3R"
      }
    },
    {
      "cell_type": "code",
      "source": [
        "# Verificando que o tipo dos datasets são mesmo dataframes. Precisamos verificar para poder uni-los através do merge.\n",
        "type(customer_demographics)\n",
        "type(customer_services)\n",
        "type(customer_status)"
      ],
      "metadata": {
        "id": "7FZtMokVM0kq",
        "colab": {
          "base_uri": "https://localhost:8080/"
        },
        "outputId": "c624ecc7-28ad-48f9-efe4-ff6ba9db062c"
      },
      "execution_count": 142,
      "outputs": [
        {
          "output_type": "execute_result",
          "data": {
            "text/plain": [
              "pandas.core.frame.DataFrame"
            ]
          },
          "metadata": {},
          "execution_count": 142
        }
      ]
    },
    {
      "cell_type": "code",
      "source": [
        "# Carrega os arquivos csv e junta os datasets, tornando-os um banco de dados. \n",
        "# Explicando a técnica: Através do merge vamos unir os datasets dois a dois, pelas observações em comum  usando como chave o id_cliente. \n",
        "df1 = pd.merge(customer_demographics,customer_services,how = 'inner', on = 'id_cliente') \n",
        "print(df1)\n",
        "\n",
        "df = pd.merge(df1,customer_status,how = 'inner', on = 'id_cliente') \n",
        "print(df)"
      ],
      "metadata": {
        "id": "4VqqLKQkYsyl"
      },
      "execution_count": null,
      "outputs": []
    },
    {
      "cell_type": "code",
      "source": [
        "# Salvando o dataset original antes de começar as transformações\n",
        "df_original = df\n",
        "print(df_original)"
      ],
      "metadata": {
        "id": "6FzGyKZVJAx3"
      },
      "execution_count": null,
      "outputs": []
    },
    {
      "cell_type": "code",
      "source": [
        "# Mostra as dimensões do dataset\n",
        "# Temos 7043 observações e 24 atributos \n",
        "print(df.shape) "
      ],
      "metadata": {
        "id": "2AORfdPEM4mN",
        "colab": {
          "base_uri": "https://localhost:8080/"
        },
        "outputId": "dfa58250-720d-4f39-f9c4-0be8fb55645d"
      },
      "execution_count": 200,
      "outputs": [
        {
          "output_type": "stream",
          "name": "stdout",
          "text": [
            "(7043, 25)\n"
          ]
        }
      ]
    },
    {
      "cell_type": "code",
      "source": [
        "# Mostra as informações do dataset, os tipos de dados. \n",
        "#Verifica se tem missing nos atributos e os tipos de atributos(string, inteiro, float). \n",
        "print(df.info())"
      ],
      "metadata": {
        "colab": {
          "base_uri": "https://localhost:8080/"
        },
        "id": "evza1BU9ZIPF",
        "outputId": "c3e6d702-45f5-458f-d4d8-9e3ece5072c0"
      },
      "execution_count": 201,
      "outputs": [
        {
          "output_type": "stream",
          "name": "stdout",
          "text": [
            "<class 'pandas.core.frame.DataFrame'>\n",
            "Int64Index: 7043 entries, 0 to 7042\n",
            "Data columns (total 25 columns):\n",
            " #   Column                     Non-Null Count  Dtype  \n",
            "---  ------                     --------------  -----  \n",
            " 0   id_cliente                 7043 non-null   object \n",
            " 1   sexo                       7043 non-null   object \n",
            " 2   idade                      7043 non-null   int64  \n",
            " 3   abaixo_30a                 7043 non-null   object \n",
            " 4   senior                     7043 non-null   object \n",
            " 5   estado_civil               7043 non-null   object \n",
            " 6   dependentes                7043 non-null   object \n",
            " 7   qtde_dependente            7043 non-null   int64  \n",
            " 8   indica_amigo               7043 non-null   object \n",
            " 9   n_indicacoes               7043 non-null   int64  \n",
            " 10  tempo_empresa              7043 non-null   int64  \n",
            " 11  ultima_oferta_aceita       7043 non-null   object \n",
            " 12  contrata_telefonia         7043 non-null   object \n",
            " 13  tarifa_linha               7043 non-null   float64\n",
            " 14  varias_linhas_telefonicas  7043 non-null   object \n",
            " 15  internet_da_empresa        7043 non-null   object \n",
            " 16  tipo_internet              7043 non-null   object \n",
            " 17  tipo_contrato              7043 non-null   object \n",
            " 18  faturamento_papel          7043 non-null   object \n",
            " 19  tipo_pagamento             7043 non-null   object \n",
            " 20  receita                    7043 non-null   float64\n",
            " 21  status                     7043 non-null   object \n",
            " 22  categoria_churn            1869 non-null   object \n",
            " 23  motivo_churn               476 non-null    object \n",
            " 24  saida_trimestre            7043 non-null   object \n",
            "dtypes: float64(2), int64(4), object(19)\n",
            "memory usage: 1.4+ MB\n",
            "None\n"
          ]
        }
      ]
    },
    {
      "cell_type": "code",
      "source": [
        "# Mostra as 10 primeiras linhas do dataset\n",
        "df.head(10)"
      ],
      "metadata": {
        "id": "hR3fuCkQZdk5"
      },
      "execution_count": null,
      "outputs": []
    },
    {
      "cell_type": "code",
      "source": [
        "# Mostra as 10 ultimas linhas do dataset. Aqui percebemos de cara que o Sexo, tem categorias que iremos ter que padronizar, pois estão como M e Male, assim como\n",
        "# temos F e Female.\n",
        "df.tail(10)"
      ],
      "metadata": {
        "id": "HkRW8d4xZf59"
      },
      "execution_count": null,
      "outputs": []
    },
    {
      "cell_type": "code",
      "source": [
        "# Verifica o tipo de dataset de cada atributo.\n",
        "# Temos em sua maioria variáveis strings e poucas inteiras e floats.\n",
        "df.dtypes"
      ],
      "metadata": {
        "id": "COQKh_kTZrdV"
      },
      "execution_count": null,
      "outputs": []
    },
    {
      "cell_type": "code",
      "source": [
        "# Faz um resumo estatístico do dataset (média, desvio padrão, mínimo, máximo e os quartis)\n",
        "# A idade parece estrnha pois temos a idade máxima de 119 anos, que é raro de encontrarmos. E ainda, em média temos aproximadamente 2 indicações por cliente.\n",
        "# Em média os clientes ficam 32 meses na empresa. A receita média da empresa é de 3034,37 no período estudado.\n",
        "df.describe()"
      ],
      "metadata": {
        "id": "1xneAnJ6Z9YS"
      },
      "execution_count": null,
      "outputs": []
    },
    {
      "cell_type": "markdown",
      "source": [
        "Verificando a distribuição das classes."
      ],
      "metadata": {
        "id": "KYg3zJ7qWTn7"
      }
    },
    {
      "cell_type": "code",
      "source": [
        "#Vamos agora verificar se o dataset tem as classes balanceadas para que possamos tratar o desbalanceamento posteriormente, se necessário. \n",
        "#Podemos observar que as classes do churn estão desbalanceadas sim e futuramente teremos que tratar isso.\n",
        "print(df.groupby('status').size())"
      ],
      "metadata": {
        "id": "AltHtXeIgXnv"
      },
      "execution_count": null,
      "outputs": []
    },
    {
      "cell_type": "code",
      "source": [
        "#Vamos tratar as categorias dos atributos que estão sem um padrão, a exemplo do sexo e ainda iremos ajustar.\n",
        "df.groupby('sexo').id_cliente.nunique()"
      ],
      "metadata": {
        "colab": {
          "base_uri": "https://localhost:8080/"
        },
        "id": "9fPvVWRDTEQ9",
        "outputId": "88362b6c-989f-4e58-e236-8ef917e64609"
      },
      "execution_count": 152,
      "outputs": [
        {
          "output_type": "execute_result",
          "data": {
            "text/plain": [
              "sexo\n",
              "F          638\n",
              "Female    2850\n",
              "M          637\n",
              "Male      2918\n",
              "Name: id_cliente, dtype: int64"
            ]
          },
          "metadata": {},
          "execution_count": 152
        }
      ]
    },
    {
      "cell_type": "code",
      "source": [
        "# Atributos que são to tipo Sim ou Não\n",
        "df = df.replace({\"No\": \"Não\"})\n",
        "df = df.replace({\"Yes\": \"Sim\"})"
      ],
      "metadata": {
        "id": "0E_wESCLaioy"
      },
      "execution_count": 153,
      "outputs": []
    },
    {
      "cell_type": "code",
      "source": [
        "# Sexo\n",
        "df = df.replace({\"Female\": \"F\"})\n",
        "df = df.replace({\"Male\": \"M\"})\n",
        "#print(df)"
      ],
      "metadata": {
        "id": "Y1Nl-3_IULqK"
      },
      "execution_count": 154,
      "outputs": []
    },
    {
      "cell_type": "code",
      "source": [
        "# Tipo de oferta\n",
        "df = df.replace({\"None\": \"Nenhum\"})\n",
        "df = df.replace({\"Offer A\": \"A\"})\n",
        "df = df.replace({\"Offer B\": \"B\"})\n",
        "df = df.replace({\"Offer C\": \"C\"})\n",
        "df = df.replace({\"Offer D\": \"D\"})\n",
        "df = df.replace({\"Offer E\": \"E\"})"
      ],
      "metadata": {
        "id": "_CNzpF2OY0sp"
      },
      "execution_count": 155,
      "outputs": []
    },
    {
      "cell_type": "code",
      "source": [
        "# Tipo de contrato\n",
        "df = df.replace({\"Month-to-Month\": \"Mensal\"})\n",
        "df = df.replace({\"One Year\": \"Anual\"})\n",
        "df = df.replace({\"Two Year\": \"2 em 2 anos\"})"
      ],
      "metadata": {
        "id": "TCt2f-Y7Xfiv"
      },
      "execution_count": 156,
      "outputs": []
    },
    {
      "cell_type": "code",
      "source": [
        "# Tipo de pagamento\n",
        "df = df.replace({\"Bank Withdrawal\": \"Retirada Bancária\"})\n",
        "df = df.replace({\"Credit Card\": \"Cartão de Crédito\"})\n",
        "df = df.replace({\"Mailed Check\": \"Cheque\"})"
      ],
      "metadata": {
        "id": "gQZnIDySUu4S"
      },
      "execution_count": 157,
      "outputs": []
    },
    {
      "cell_type": "code",
      "source": [
        "# Status do cliente\n",
        "df = df.replace({\"Churned\": \"Churn\"})\n",
        "df = df.replace({\"Joined\": \"Cliente novo\"})\n",
        "df = df.replace({\"Stayed\": \"Cliente antigo\"})"
      ],
      "metadata": {
        "id": "UnYqz2v_gHZ2"
      },
      "execution_count": 158,
      "outputs": []
    },
    {
      "cell_type": "code",
      "source": [
        "# Categoria Churn\n",
        "df = df.replace({\"Attitude\": \"Atitude\"})\n",
        "df = df.replace({\"Competitor\": \"Concorrente\"})\n",
        "df = df.replace({\"Dissatisfaction\": \"Insatisfação\"})\n",
        "df = df.replace({\"Other\": \"Outro\"})\n",
        "df = df.replace({\"Price\": \"Preço\"})"
      ],
      "metadata": {
        "id": "QvcgQn_aZzJl"
      },
      "execution_count": 159,
      "outputs": []
    },
    {
      "cell_type": "markdown",
      "source": [
        "Comentários: Agora temos as principais variávies padronizadas para podermos trabalhar."
      ],
      "metadata": {
        "id": "YZW9DO5o87hB"
      }
    },
    {
      "cell_type": "markdown",
      "source": [
        "###**3.2 Visualizações Unimodais**"
      ],
      "metadata": {
        "id": "0-5YwgibNAPF"
      }
    },
    {
      "cell_type": "markdown",
      "source": [
        "Vamos criar um histograma para cada atributo do dataset, para verificarmos como está a distribuição dos dados. "
      ],
      "metadata": {
        "id": "gM9vC-mNNHYQ"
      }
    },
    {
      "cell_type": "code",
      "source": [
        "# Histograma\n",
        "df.hist(figsize = (15,10))\n",
        "plt.show()"
      ],
      "metadata": {
        "id": "HWXxkHv0NNtF"
      },
      "execution_count": null,
      "outputs": []
    },
    {
      "cell_type": "markdown",
      "source": [
        "Comentários: Vemos que o atributo receita segue uma distribuição exponencial. A quantidade de dependentes está concentrada em 1 dependente por cliente."
      ],
      "metadata": {
        "id": "ctay_-hVQ3Nj"
      }
    },
    {
      "cell_type": "markdown",
      "source": [
        "Temos abaixo o Gráfico de Densidade, ou Density Plot, ele é bem parecido com o histograma, mas com uma visualização um pouco diferente. Com ele, pode ser mais fácil identificar a distribuição dos atributos do dataset. Assim como fizemos com o histograma, vamos criar um density plot para cada atributo do dataset."
      ],
      "metadata": {
        "id": "fMdKORzck6U9"
      }
    },
    {
      "cell_type": "code",
      "source": [
        "# Density Plot\n",
        "df.plot(kind = 'density', subplots = True, layout = (3,2), sharex = False, figsize = (14,9))\n",
        "plt.show()"
      ],
      "metadata": {
        "id": "u1c_enYWlJ5Z"
      },
      "execution_count": null,
      "outputs": []
    },
    {
      "cell_type": "markdown",
      "source": [
        "Comentários: Vemos que muitos dos atributos têm uma distribuição distorcida, como por exemplo os atributos receita e número de indicações. Uma transformação como a Box-Cox, que pode aproximar a distribuição de uma Normal, pode ser útil neste caso."
      ],
      "metadata": {
        "id": "exz-b9sIlDjV"
      }
    },
    {
      "cell_type": "markdown",
      "source": [
        "Vamos agora trabalhar com boxplots. No boxblot, a linha no centro (vermelha) representa o valor da mediana (segundo quartil ou p50). A linha abaixo é o 1o quartil (p25) e a linha acima o terceiro quartil (p75). O boxplot ajuda a ter uma ideia da dispersão dos dataset e os possíveis outliers."
      ],
      "metadata": {
        "id": "oD6-BM81mZt6"
      }
    },
    {
      "cell_type": "markdown",
      "source": [
        "OBS: Se um ponto do dataset é muito distante da média (acima de 3 desvios padrão da média), pode ser considerado outlier."
      ],
      "metadata": {
        "id": "kOX3wOB2mZaP"
      }
    },
    {
      "cell_type": "markdown",
      "source": [
        "Nos gráficos bloxplot, veremos que a dispersão dos atributos do dataset é bem diferente."
      ],
      "metadata": {
        "id": "uyNs7Hpzmi_k"
      }
    },
    {
      "cell_type": "code",
      "source": [
        "# Boxplot\n",
        "df.plot(kind = 'box', subplots = True, layout = (4,3), sharex = False, sharey = False, figsize = (15,10))\n",
        "plt.show()"
      ],
      "metadata": {
        "id": "TkEw6qs1mo6p"
      },
      "execution_count": null,
      "outputs": []
    },
    {
      "cell_type": "markdown",
      "source": [
        "Comentários: A exemplo, o atributo idade tem valores acima de 100, que podem ser possíveis outliers. A quantidade de dependentes está com muitos outliers, vale a investigação do que houve."
      ],
      "metadata": {
        "id": "fugVsca-SrI5"
      }
    },
    {
      "cell_type": "markdown",
      "source": [
        "Agora iremos analisar alguns atributos individualmente."
      ],
      "metadata": {
        "id": "8C4mQ4qnGuO9"
      }
    },
    {
      "cell_type": "code",
      "source": [
        "# Após ajustar o Sexo, iremos fazer um gráfico de pizza para ver como está a proporção\n",
        "legend = 'Feminino', 'Masculino'\n",
        "labels = 'F','M'\n",
        "sizes = [3488,3555]\n",
        "\n",
        "# Criando o gráfico de pizza\n",
        "fig, ax = plt.subplots()\n",
        "ax.pie(sizes, labels=labels, autopct='%1.1f%%',colors=['magenta', 'yellowgreen'])\n",
        "\n",
        "# Adicionando titulo ao gráfico\n",
        "ax.set_title(\"Sexo dos clientes\")\n",
        "\n",
        "# Adicionando legenda ao gráfico\n",
        "plt.legend(legend, bbox_to_anchor=(1.3, 0.9),loc='upper right')"
      ],
      "metadata": {
        "id": "V9R33PCW5oHL"
      },
      "execution_count": null,
      "outputs": []
    },
    {
      "cell_type": "markdown",
      "source": [
        "Comentários: A distribuição do sexo está muito equilibrada, tendo um pouco a mais de homens na empresa, representando 50.5% de todos os clientes."
      ],
      "metadata": {
        "id": "LkSoWZOJ5ocm"
      }
    },
    {
      "cell_type": "code",
      "source": [
        "# Gráfico de barras dos clientes com mais de 60 anos x tempo na empresa\n",
        "sns.barplot(data=df, x=\"senior\", y=\"tempo_empresa\",ci = None,palette = 'hls')"
      ],
      "metadata": {
        "id": "QsDy7c9bxycF"
      },
      "execution_count": null,
      "outputs": []
    },
    {
      "cell_type": "markdown",
      "source": [
        "Comentários: Olhando para o grupo de Clientes senior (mais de 60 anos de idade), eles ficam mais de 40 meses na empresa e em sua grande maioria são considerados clientes antigos."
      ],
      "metadata": {
        "id": "BRaOAsVJ33ZC"
      }
    },
    {
      "cell_type": "code",
      "source": [
        "# Gráfico de barras dos clientes com menos de 30 anos x tempo na empresa\n",
        "sns.barplot(data=df, x=\"status\", y=\"tempo_empresa\", hue=\"abaixo_30a\",ci = None,order = [\"Cliente novo\", \"Cliente antigo\", \"Churn\"])"
      ],
      "metadata": {
        "id": "1mwD7npiBYdA"
      },
      "execution_count": null,
      "outputs": []
    },
    {
      "cell_type": "markdown",
      "source": [
        "Comentários: Um fato curioso é que a quantidade de clientes que saíram da empresa ficou próxima independente se tinha ou não menos de 30 anos."
      ],
      "metadata": {
        "id": "tZh0FdMiBYuX"
      }
    },
    {
      "cell_type": "code",
      "source": [
        "# Calculando a receita média dos clientes acima de 60 anos e abaixo de 30 anos.\n",
        "velho = df.groupby('senior')['receita'].mean()\n",
        "print(velho)\n",
        "\n",
        "novo = df.groupby('abaixo_30a')['receita'].mean()\n",
        "print(novo)"
      ],
      "metadata": {
        "id": "RepIN6lj8eZF"
      },
      "execution_count": null,
      "outputs": []
    },
    {
      "cell_type": "markdown",
      "source": [
        "Comentários: Clientes acima de 60 anos de idade geram uma receita média de 3586.10 reais. Enquanto clientes abaixo de 30 anos geram uma receita média menor (2967.89 reais)."
      ],
      "metadata": {
        "id": "RS79BRZF-RsR"
      }
    },
    {
      "cell_type": "code",
      "source": [
        "# Gráfico com o status x tempo de empresa\n",
        "sns.barplot(data=df, x=\"status\", y=\"tempo_empresa\",ci = None)"
      ],
      "metadata": {
        "id": "mhyx-DXWzI4X"
      },
      "execution_count": null,
      "outputs": []
    },
    {
      "cell_type": "markdown",
      "source": [
        "Comentários: O tempo de empresa é realmente maior para clientes antigos e está em torno de 40 meses, já o de clientes que seriam churn, está em 18 meses aproximadamente. Um ponto de atenção para os clientes que alcançaram os 18 meses, seria ideal acompanhar como eles estão para evitar que saíssem da empresa."
      ],
      "metadata": {
        "id": "GsybPDAP3S6A"
      }
    },
    {
      "cell_type": "code",
      "source": [
        "# Gráfico da quantidade de dependentes x estado civil x status\n",
        "sns.barplot(data=df, x=\"status\", y=\"qtde_dependente\", hue=\"estado_civil\",ci =  None)"
      ],
      "metadata": {
        "id": "zBsXwTRf_-PG"
      },
      "execution_count": null,
      "outputs": []
    },
    {
      "cell_type": "markdown",
      "source": [
        "Comentários: Clientes casados tem mais dependentes e compõem a maioria dos clientes da empresa."
      ],
      "metadata": {
        "id": "0KzB2YP__-e4"
      }
    },
    {
      "cell_type": "code",
      "source": [
        "sns.barplot(data=df, y=\"n_indicacoes\", x=\"status\",ci =  None)"
      ],
      "metadata": {
        "id": "i5xkt64gEoDx"
      },
      "execution_count": null,
      "outputs": []
    },
    {
      "cell_type": "markdown",
      "source": [
        "Comentários: Através do gráfico, podemos identificar que quem mais indicou a empresa pra amigos foram os clientes antigos."
      ],
      "metadata": {
        "id": "5oXi0W_Dy-0K"
      }
    },
    {
      "cell_type": "code",
      "source": [
        "# Agrupa as informações da quantidade de indicações por status de cliente\n",
        "aux = df.groupby((['status']), as_index=False)['n_indicacoes'].sum()\n",
        "print(aux)"
      ],
      "metadata": {
        "id": "y2u6iGAucYcE"
      },
      "execution_count": null,
      "outputs": []
    },
    {
      "cell_type": "markdown",
      "source": [
        "Comentários: Clientes antigos fizeram 12.342 indicações, enquanto que os novos apenas 431. Entende-se que eles tem mais chances de continuar na empresa, dado que estão indicando bastante."
      ],
      "metadata": {
        "id": "IRoOVkXXEoT1"
      }
    },
    {
      "cell_type": "code",
      "source": [
        "# Verificando as categorias do churn para gerar o gráfico e ver como está a proporção por cliente\n",
        "df.groupby('categoria_churn').id_cliente.nunique()\n",
        "\n",
        "# Após balancear o Sexo, iremos fazer um gráfico de pizza para ver como está a proporção\n",
        "legend = 'Atitude','Concorrente', 'Insatisfação', 'Outro', 'Preço'\n",
        "labels = 'A','C','I','O','P'\n",
        "sizes = [314,841,303,200,211]\n",
        "col = ['#4F6272', '#B7C3F3', '#DD7596', '#8EB897','#06C2AC']\n",
        "# Criando o gráfico de pizza\n",
        "fig, ax = plt.subplots()\n",
        "ax.pie(sizes, labels=labels, autopct='%1.1f%%',colors=col)\n",
        "\n",
        "# Adicionando titulo ao gráfico\n",
        "ax.set_title(\"Motivo de Churn dos clientes\")\n",
        "\n",
        "# Adicionando legenda ao gráfico\n",
        "plt.legend(legend, bbox_to_anchor=(1.4, 1.1),loc='upper right')"
      ],
      "metadata": {
        "id": "Idt8LQw6Fful"
      },
      "execution_count": null,
      "outputs": []
    },
    {
      "cell_type": "markdown",
      "source": [
        "Comentários: Aqui verificamos que a maioria dos clientes (45%) saem para irem pra concorrência e o segundo maior motivo de saída é a atitude (16.8%). "
      ],
      "metadata": {
        "id": "OR4NlXghFgE3"
      }
    },
    {
      "cell_type": "code",
      "source": [
        "# Verificando a proporção de ofertas aceitas por cliente\n",
        "df.groupby('ultima_oferta_aceita').id_cliente.nunique()\n",
        "\n",
        "# Iremos fazer um gráfico de pizza para ver como está a proporção das ofertas\n",
        "legend = 'Oferta A','Oferta B', 'Oferta C', 'Oferta D', 'Oferta E', 'Nenhuma'\n",
        "labels = 'A','B','C','D','E','Nenhum'\n",
        "sizes = [520,824,415,602,805,3877]\n",
        "col = ['#4F6272', '#B7C3F3', '#DD7596', '#8EB897','#06C2AC','#FF7F5D']\n",
        "# Criando o gráfico de pizza\n",
        "fig, ax = plt.subplots()\n",
        "ax.pie(sizes, labels=labels, autopct='%1.1f%%',colors=col)\n",
        "\n",
        "# Adicionando titulo ao gráfico\n",
        "ax.set_title(\"Última oferta aceita pelos  clientes\")\n",
        "\n",
        "# Adicionando legenda ao gráfico\n",
        "plt.legend(legend, bbox_to_anchor=(1.4, 1.1),loc='upper right')\n"
      ],
      "metadata": {
        "id": "_VgyTMbABezt"
      },
      "execution_count": null,
      "outputs": []
    },
    {
      "cell_type": "markdown",
      "source": [
        "Comentários: Mais da metade (55%) dos clientes não aceitou nenhuma oferta nos ultimos meses. Isso pode aumentar o risco deles sairem. Enquanto que a Oferta B é a mais aceita entre eles (11.7%)."
      ],
      "metadata": {
        "id": "tz1gGj_JDAFy"
      }
    },
    {
      "cell_type": "markdown",
      "source": [
        "### **3.3. Visualizações Multimodais**"
      ],
      "metadata": {
        "id": "l7s1liG3nzgw"
      }
    },
    {
      "cell_type": "markdown",
      "source": [
        "Ao visualizar as correlações entre os atributos através da matriz de correlação, perceberemos que parece haver alguma estrutura na ordem dos atributos. O azul ao redor da diagonal sugere que os atributos que estão próximos um do outro são geralmente mais correlacionados entre si. Os vermelhos também sugerem alguma correlação negativa moderada, a medida que os atributos"
      ],
      "metadata": {
        "id": "1TJhW7E6omI6"
      }
    },
    {
      "cell_type": "markdown",
      "source": [
        "Vamos agora verificar a covariância entre as variáveis numéricas do dataset. A covariância representa como duas variáveis numéricas estão relacionadas. Existem várias formas de calcular a correlação entre duas variáveis, como por exemplo, o coeficiente de correlação de Pearson, que pode ser:"
      ],
      "metadata": {
        "id": "EDWifeW3oo6H"
      }
    },
    {
      "cell_type": "markdown",
      "source": [
        "Próximo de -1 : há uma correlação negativa entre as variáveis, \n",
        ">\n",
        "Próximo de +1: há uma correlação positiva entre as variáveis.\n",
        ">\n",
        "0: não há correlação entre as variáveis."
      ],
      "metadata": {
        "id": "PoxMIIbpov3A"
      }
    },
    {
      "cell_type": "markdown",
      "source": [
        "OBS: Esta informação é relevante porque alguns algoritmos como regressão linear e regressão logística podem apresentar problemas de performance se houver atributos altamente correlacionados. Vale a pena consultar a documentação do algoritmo para verificar se algum tipo de tratamento de dataset é necessário."
      ],
      "metadata": {
        "id": "oX1WGh9Jo-Go"
      }
    },
    {
      "cell_type": "markdown",
      "source": [
        "Falamos anteriormente da importância da correlação entre os atributos, e agora iremos visualizar esta informação em formato gráfico. A matriz de correlação exibe graficamente a correlação entre os atributos numéricos do dataset.estão mais distantes um do outro na ordenação."
      ],
      "metadata": {
        "id": "EGhWkHizpCu7"
      }
    },
    {
      "cell_type": "markdown",
      "source": [
        "O código a seguir exibe a matriz de correlação."
      ],
      "metadata": {
        "id": "_ZWQTzHtpF95"
      }
    },
    {
      "cell_type": "code",
      "source": [
        "# Matriz de Correlação com Matplotlib Seaborn\n",
        "sns.heatmap(df.corr(), annot=True, cmap='RdBu');"
      ],
      "metadata": {
        "id": "jusqCcxvorle"
      },
      "execution_count": null,
      "outputs": []
    },
    {
      "cell_type": "markdown",
      "source": [
        "Comentários: A matriz de correlação nos mostra que existe uma forte correlação entre a receita e o tempo de empresa e também da quantidade de dependentes com o número de indicações. Os atributos receita e o tempo de empresa poderão ser um problema quando iniciarmos o modelo pois tem a correlação forte."
      ],
      "metadata": {
        "id": "AoB4gy9y76ef"
      }
    },
    {
      "cell_type": "markdown",
      "source": [
        "Por sua vez, o gráfico de dispersão (scatter plot) mostra o relacionamento entre duas variáveis. Vamos exibir um para cada par de atributos dos dataset, usando o Seaborn."
      ],
      "metadata": {
        "id": "l5zGUmB_pUOh"
      }
    },
    {
      "cell_type": "code",
      "source": [
        "# Scatter Plot com Seaborn \n",
        "sns.pairplot(df)"
      ],
      "metadata": {
        "id": "wWe45YDfpaa5"
      },
      "execution_count": null,
      "outputs": []
    },
    {
      "cell_type": "markdown",
      "source": [
        "Comentários: Novamente verificamos que existe uma forte correlação entre a receita e o tempo de empresa."
      ],
      "metadata": {
        "id": "QXHe6lf5H8oY"
      }
    },
    {
      "cell_type": "markdown",
      "source": [
        "## **4. Pré-Processamento de dados**"
      ],
      "metadata": {
        "id": "Zo8XZLS6NPIl"
      }
    },
    {
      "cell_type": "markdown",
      "source": [
        "Nesta etapa, poderíamos realizar diversas operações de preparação de dados, como por exemplo, tratamento de valores missings (faltantes), limpeza de dados, transformações como one-hot-encoding, seleção de características (feature selection), entre outras não mostradas neste notebook."
      ],
      "metadata": {
        "id": "xLI7113gp2cb"
      }
    },
    {
      "cell_type": "markdown",
      "source": [
        "##**4.1 Tratamento de Missing e Limpeza**"
      ],
      "metadata": {
        "id": "6GpDULOJNbcK"
      }
    },
    {
      "cell_type": "markdown",
      "source": [
        "Já vimos que o dataset de telecomunicações da empresa TELCO tem missings aparentes, como valores \"NAN\" que parecem ser missings. Vamos então investigar e fazer o tratamento necessário e criar uma nova visão do nosso dataset. Os atributos categoria churn e motivo churn tem 5174 missings."
      ],
      "metadata": {
        "id": "ZATTEMO-qGD8"
      }
    },
    {
      "cell_type": "code",
      "source": [
        "# verificando nulls no dataset\n",
        "df.isnull().sum()"
      ],
      "metadata": {
        "id": "z6oXkD3yqpAj"
      },
      "execution_count": null,
      "outputs": []
    },
    {
      "cell_type": "code",
      "source": [
        "# Os atributos que possuem missing são a categoria churn e o motivo churn.\n",
        "# Agora estamos investigando  a hipótese pra ver se os missings nos atributos categoria churn e motivo churn se dão devido ao \n",
        "# atributo status estar como 'Churn', logo o cliente não tem motivo de churn nessa categoria. \n",
        "indice = df[df['status'] =='Churn']\n",
        "print(indice)"
      ],
      "metadata": {
        "id": "5VcWtb2ZCqmU"
      },
      "execution_count": null,
      "outputs": []
    },
    {
      "cell_type": "code",
      "source": [
        "# Abaixo conclui-se que a hipótese de que os missings nessas duas colunas se dão devido ao status estar como 'Churn'.  \n",
        "indice.isnull().sum()"
      ],
      "metadata": {
        "id": "v1kGol41u5Jd"
      },
      "execution_count": null,
      "outputs": []
    },
    {
      "cell_type": "code",
      "source": [
        "# salvando um NOVO dataset para tratamento de missings, por boas práticas.\n",
        "# recuperando os nomes das colunas\n",
        "col = list(df.columns)\n",
        "\n",
        "# o novo dataset com todas as colunas\n",
        "atributos = df[col[:]]\n",
        "\n",
        "# exibindo visualização matricial da nulidade do dataset sem a alteração dos NaN para \"Não se aplica\"\n",
        "ms.matrix(df)"
      ],
      "metadata": {
        "id": "HZakpMwjr0w7"
      },
      "execution_count": null,
      "outputs": []
    },
    {
      "cell_type": "code",
      "source": [
        "# exibindo a visualização matricial da nulidade do dataset após a alteração dos NaN para \"Não se aplica\"\n",
        "# substituindo os NaN, por não se aplica\n",
        "atributos['motivo_churn'] = df['motivo_churn'].replace(np.nan, \"Not applicable\")\n",
        "atributos['categoria_churn'] = df['categoria_churn'].replace(np.nan, \"Not applicable\")\n",
        "\n",
        "ms.matrix(atributos)"
      ],
      "metadata": {
        "id": "r-NQTemk_Bqt"
      },
      "execution_count": null,
      "outputs": []
    },
    {
      "cell_type": "code",
      "source": [
        "# guardando o novo dataset para testes futuros\n",
        "datasetSemMissings = atributos\n",
        "\n",
        "# exibindo as primeiras linhas\n",
        "datasetSemMissings.tail()"
      ],
      "metadata": {
        "id": "mlwShPMSKJ0_"
      },
      "execution_count": null,
      "outputs": []
    },
    {
      "cell_type": "markdown",
      "source": [
        "##**4.2 Transformação dos dados**"
      ],
      "metadata": {
        "id": "_0gr2PRJKKEs"
      }
    },
    {
      "cell_type": "markdown",
      "source": [
        "#Separação em conjunto de treino e conjunto de teste"
      ],
      "metadata": {
        "id": "uFvtYHSDKnJe"
      }
    },
    {
      "cell_type": "code",
      "source": [
        "# Separando apenas os atributos que iremos utilizar\n",
        "df2 = datasetSemMissings.iloc[:,[0,1,2,3,4,5,6,7,8,9,10,11,20,21,22]]\n",
        "print(df2)"
      ],
      "metadata": {
        "id": "l6wHfEjVK4Ht"
      },
      "execution_count": null,
      "outputs": []
    },
    {
      "cell_type": "code",
      "source": [
        "# exibindo as primeiras linhas\n",
        "df2.info()"
      ],
      "metadata": {
        "id": "J6xZnnqwUb5V"
      },
      "execution_count": null,
      "outputs": []
    },
    {
      "cell_type": "markdown",
      "source": [
        "É uma boa prática usar um conjunto de teste (na literatura também chamado de conjunto de validação), uma amostra dos dados que não será usada para a construção do modelo, mas somente no fim do projeto para confirmar a precisão do modelo final. É um teste que podemos usar para verificar o quão boa foi a construção do modelo, e para nos dar uma ideia de como o modelo irá performar nas estimativas em dados não vistos.\n",
        "\n",
        "Usaremos 80% do conjunto de dados para modelagem e guardaremos 20% para teste, usando a estratégia train-test-split.\n",
        "\n",
        "Primeiramente, iremos sinalizar quais são as colunas de atributos (X - 0 a 13) e qual é a coluna das classes (Y - 13). Em seguida, especificaremos o tamanho do conjunto de teste desejado."
      ],
      "metadata": {
        "id": "ET0eBmNZe0zJ"
      }
    },
    {
      "cell_type": "markdown",
      "source": [
        "Finalmente, faremos a separação dos conjuntos de treino e teste através do comando train_test_split, que retornará 4 estruturas de dados: os atributos e classes para o conjunto de teste e os atributos e classes para o conjunto de treino."
      ],
      "metadata": {
        "id": "OE6v5DxofZHn"
      }
    },
    {
      "cell_type": "code",
      "source": [
        "# Usando o dataset original. Deixando 20% dos dados para teste.\n",
        "test_size = 0.20\n",
        "seed = 42\n",
        "\n",
        "# separando o array em componentes de input e output - treino e teste\n",
        "X = df.values[:,0:21]\n",
        "y = df.values[:,21]\n",
        "X_train, X_test, y_train, y_test = train_test_split(X, y,\n",
        "    test_size=test_size,random_state=seed, stratify=y) # com estratificação"
      ],
      "metadata": {
        "id": "plUgZ2GsKF9J"
      },
      "execution_count": 202,
      "outputs": []
    },
    {
      "cell_type": "code",
      "source": [
        "# Usando o dataset transformado. Deixando 20% dos dados para teste  e 80% pra treino.\n",
        "# separando o array em componentes de input e output\n",
        "Xx = df2.values[:,0:13]\n",
        "yy = df2.values[:,13]\n",
        "X_train_x, X_test_x, y_train_y, y_test_y = train_test_split(Xx, yy,\n",
        "    test_size=test_size,random_state=seed, stratify=yy) # com estratificação"
      ],
      "metadata": {
        "id": "HvwVYyz5eiGh"
      },
      "execution_count": 203,
      "outputs": []
    }
  ]
}