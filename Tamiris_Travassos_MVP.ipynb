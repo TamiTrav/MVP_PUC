{
  "nbformat": 4,
  "nbformat_minor": 0,
  "metadata": {
    "colab": {
      "provenance": [],
      "authorship_tag": "ABX9TyO1GjX8HiBfHOUoPCHRU627",
      "include_colab_link": true
    },
    "kernelspec": {
      "name": "python3",
      "display_name": "Python 3"
    },
    "language_info": {
      "name": "python"
    }
  },
  "cells": [
    {
      "cell_type": "markdown",
      "metadata": {
        "id": "view-in-github",
        "colab_type": "text"
      },
      "source": [
        "<a href=\"https://colab.research.google.com/github/TamiTrav/MVP_PUC/blob/main/Tamiris_Travassos_MVP.ipynb\" target=\"_parent\"><img src=\"https://colab.research.google.com/assets/colab-badge.svg\" alt=\"Open In Colab\"/></a>"
      ]
    },
    {
      "cell_type": "markdown",
      "source": [
        "# **MVP de Análise de Dados e Boas Práticas**"
      ],
      "metadata": {
        "id": "gC24jDz5dGKX"
      }
    },
    {
      "cell_type": "markdown",
      "source": [
        "Aluna: Tamiris Severino Travassos"
      ],
      "metadata": {
        "id": "jBCGYHnneI3a"
      }
    },
    {
      "cell_type": "markdown",
      "source": [
        "## **1.Definição do problema**"
      ],
      "metadata": {
        "id": "xz3ss_n3Kvj2"
      }
    },
    {
      "cell_type": "markdown",
      "source": [
        "O banco de dados usado nesse projeto será composto por 5 datasets: Telco_customer_churn_demographics, Telco_customer_churn_location,Telco_customer_churn_population, Telco_customer_churn_services, e Telco_customer_churn_status e encontram-se no Kaggle. Para mais detalhes sobre este dataset, consulte: https://www.kaggle.com/code/datacertlaboratoria/guia-de-resolu-o-projeto-5/input\n",
        "\n"
      ],
      "metadata": {
        "id": "M-bAnMCQg6Br"
      }
    },
    {
      "cell_type": "markdown",
      "source": [
        "**Informações sobre os atributos**"
      ],
      "metadata": {
        "id": "fTqgBL23K2CL"
      }
    },
    {
      "cell_type": "markdown",
      "source": [
        "1.\n",
        "2.\n",
        "3.\n",
        "4.\n",
        "5."
      ],
      "metadata": {
        "id": "biiwfoRoK8GX"
      }
    },
    {
      "cell_type": "markdown",
      "source": [],
      "metadata": {
        "id": "Z9yuSE0Ad71B"
      }
    },
    {
      "cell_type": "code",
      "source": [
        "# Import \n",
        "import pandas as pd\n",
        "import seaborn as sb"
      ],
      "metadata": {
        "id": "Ger0JaG5Ldl2"
      },
      "execution_count": 2,
      "outputs": []
    },
    {
      "cell_type": "markdown",
      "source": [
        "## **2. Carga de Dados**"
      ],
      "metadata": {
        "id": "K-nIlvh9LHmL"
      }
    },
    {
      "cell_type": "markdown",
      "source": [],
      "metadata": {
        "id": "9-IPdh2R3VpO"
      }
    },
    {
      "cell_type": "markdown",
      "source": [
        "Iremos utilizar os pacotes x pra darmos carga no bancos de dados"
      ],
      "metadata": {
        "id": "2H1GrlT7LtIz"
      }
    },
    {
      "cell_type": "code",
      "source": [
        "from google.colab import drive \n",
        "drive.mount('/content/drive')"
      ],
      "metadata": {
        "colab": {
          "base_uri": "https://localhost:8080/"
        },
        "id": "GsrM6D3TzlUn",
        "outputId": "61226956-17ea-42b5-c7bf-93f0d6b830a2"
      },
      "execution_count": 5,
      "outputs": [
        {
          "output_type": "stream",
          "name": "stdout",
          "text": [
            "Mounted at /content/drive\n"
          ]
        }
      ]
    },
    {
      "cell_type": "code",
      "source": [
        "url_2022_02 = pd.read_csv('https://github.com/simonefmr/datascience_mvp/blob/main/database_202202.csv?raw=true', sep=';', encoding='ISO-8859-1')"
      ],
      "metadata": {
        "id": "kQgdRhn4iqUZ"
      },
      "execution_count": null,
      "outputs": []
    },
    {
      "cell_type": "markdown",
      "source": [
        "Após carregamos o dataset iremos explorá-lo."
      ],
      "metadata": {
        "id": "Y1E88kDbL2cQ"
      }
    },
    {
      "cell_type": "code",
      "source": [
        "# Carrega os arquivos csv e junta os bancos de dados, tornando-os um só"
      ],
      "metadata": {
        "id": "rFzzknFDLJbA"
      },
      "execution_count": null,
      "outputs": []
    },
    {
      "cell_type": "markdown",
      "source": [
        "## **3. Análise de dados**"
      ],
      "metadata": {
        "id": "_d-1OyjpMTtk"
      }
    },
    {
      "cell_type": "markdown",
      "source": [
        "**3.1 Estatísticas Descritivas**"
      ],
      "metadata": {
        "id": "epxa_qlFMjvm"
      }
    },
    {
      "cell_type": "code",
      "source": [],
      "metadata": {
        "id": "dUMJvetbd2tL"
      },
      "execution_count": null,
      "outputs": []
    },
    {
      "cell_type": "markdown",
      "source": [
        "Vamos examinar o dataset"
      ],
      "metadata": {
        "id": "5mT-UNDwMv3R"
      }
    },
    {
      "cell_type": "code",
      "source": [
        "xxxx"
      ],
      "metadata": {
        "id": "7FZtMokVM0kq"
      },
      "execution_count": null,
      "outputs": []
    },
    {
      "cell_type": "code",
      "source": [
        "xx"
      ],
      "metadata": {
        "id": "2AORfdPEM4mN"
      },
      "execution_count": null,
      "outputs": []
    },
    {
      "cell_type": "markdown",
      "source": [
        "**3.2 Visualizações Gráficas**"
      ],
      "metadata": {
        "id": "0-5YwgibNAPF"
      }
    },
    {
      "cell_type": "markdown",
      "source": [
        "xxxxx"
      ],
      "metadata": {
        "id": "gM9vC-mNNHYQ"
      }
    },
    {
      "cell_type": "code",
      "source": [
        "xxxx"
      ],
      "metadata": {
        "id": "HWXxkHv0NNtF"
      },
      "execution_count": null,
      "outputs": []
    },
    {
      "cell_type": "markdown",
      "source": [
        "## **4. Pré-Processamento de dados**"
      ],
      "metadata": {
        "id": "Zo8XZLS6NPIl"
      }
    },
    {
      "cell_type": "markdown",
      "source": [
        "**4.1 Tratamento de Missing e Limpeza**"
      ],
      "metadata": {
        "id": "6GpDULOJNbcK"
      }
    }
  ]
}